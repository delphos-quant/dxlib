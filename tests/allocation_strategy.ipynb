{
 "cells": [
  {
   "cell_type": "code",
   "execution_count": 1,
   "outputs": [],
   "source": [
    "%load_ext autoreload\n",
    "%autoreload 2"
   ],
   "metadata": {
    "collapsed": false,
    "ExecuteTime": {
     "end_time": "2023-08-10T02:14:17.511757Z",
     "start_time": "2023-08-10T02:14:17.503758400Z"
    }
   },
   "id": "cf8a4375daa3013f"
  },
  {
   "cell_type": "code",
   "execution_count": 22,
   "id": "initial_id",
   "metadata": {
    "collapsed": true,
    "ExecuteTime": {
     "end_time": "2023-08-10T02:32:11.909983Z",
     "start_time": "2023-08-10T02:32:11.865336900Z"
    }
   },
   "outputs": [],
   "source": [
    "from dxlib.api import YFinanceAPI\n",
    "from dxlib import Portfolio, Signal"
   ]
  },
  {
   "cell_type": "code",
   "execution_count": 3,
   "outputs": [],
   "source": [
    "api = YFinanceAPI()\n",
    "historical_bars = api.get_historical_bars([\"MSFT\", \"TSLA\", \"AAPL\"])"
   ],
   "metadata": {
    "collapsed": false,
    "ExecuteTime": {
     "end_time": "2023-08-10T02:18:31.131362Z",
     "start_time": "2023-08-10T02:18:31.041877400Z"
    }
   },
   "id": "3ced477348c2f371"
  },
  {
   "cell_type": "code",
   "execution_count": 93,
   "outputs": [
    {
     "name": "stdout",
     "output_type": "stream",
     "text": [
      "Portfolio history last prices:\n",
      "AAPL    179.800003\n",
      "MSFT    326.049988\n",
      "TSLA    249.699997\n",
      "Name: 2023-08-08 10:30:00, dtype: float64\n",
      "Transaction cost: 0.01\n",
      "{<dxlib.core.security.Security object at 0x7ff2e2330400>: 0.1798018010697685}\n"
     ]
    }
   ],
   "source": [
    "portfolio = Portfolio(historical_bars[\"Close\"])\n",
    "portfolio.add_cash(1000)\n",
    "portfolio.trade(\"AAPL\", Signal(\"Buy\", 1))\n",
    "\n",
    "print(\"Portfolio history last prices:\")\n",
    "print(portfolio.history.last())\n",
    "print(\"Transaction cost:\", portfolio.transaction_history[-1].cost)\n",
    "print(portfolio.current_weights)  "
   ],
   "metadata": {
    "collapsed": false,
    "ExecuteTime": {
     "end_time": "2023-08-10T02:52:27.034847400Z",
     "start_time": "2023-08-10T02:52:26.943878200Z"
    }
   },
   "id": "da96f3ed47a3a162"
  },
  {
   "cell_type": "code",
   "execution_count": 95,
   "outputs": [
    {
     "name": "stdout",
     "output_type": "stream",
     "text": [
      "AAPL    179.800003\n",
      "MSFT    326.049988\n",
      "TSLA    249.699997\n",
      "Name: 2023-08-08 10:30:00, dtype: float64\n"
     ]
    }
   ],
   "source": [
    "portfolio.allocate([0.5, 0.5])"
   ],
   "metadata": {
    "collapsed": false,
    "ExecuteTime": {
     "end_time": "2023-08-10T02:52:46.428589200Z",
     "start_time": "2023-08-10T02:52:46.381589600Z"
    }
   },
   "id": "f285f4560a6b568e"
  },
  {
   "cell_type": "code",
   "execution_count": null,
   "outputs": [],
   "source": [],
   "metadata": {
    "collapsed": false
   },
   "id": "982e228d9acd7136"
  }
 ],
 "metadata": {
  "kernelspec": {
   "display_name": "Python 3",
   "language": "python",
   "name": "python3"
  },
  "language_info": {
   "codemirror_mode": {
    "name": "ipython",
    "version": 2
   },
   "file_extension": ".py",
   "mimetype": "text/x-python",
   "name": "python",
   "nbconvert_exporter": "python",
   "pygments_lexer": "ipython2",
   "version": "2.7.6"
  }
 },
 "nbformat": 4,
 "nbformat_minor": 5
}
