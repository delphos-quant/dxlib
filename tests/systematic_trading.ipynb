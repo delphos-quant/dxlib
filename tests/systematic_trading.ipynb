{
 "cells": [
  {
   "cell_type": "code",
   "execution_count": 2,
   "outputs": [],
   "source": [
    "%load_ext autoreload\n",
    "%autoreload 2"
   ],
   "metadata": {
    "collapsed": false,
    "ExecuteTime": {
     "start_time": "2023-08-04T03:33:12.553148Z",
     "end_time": "2023-08-04T03:33:12.608148Z"
    }
   }
  },
  {
   "cell_type": "code",
   "execution_count": 3,
   "metadata": {
    "collapsed": true,
    "ExecuteTime": {
     "start_time": "2023-08-04T03:33:13.014237Z",
     "end_time": "2023-08-04T03:33:14.117025Z"
    }
   },
   "outputs": [],
   "source": [
    "import pprint\n",
    "from dxlib.simulation import SimulationManager, Strategy\n",
    "from dxlib import Portfolio, Signal, TradeType\n",
    "from dxlib.api import AlpacaMarketsAPI\n",
    "import pandas\n",
    "\n",
    "pp = pprint.PrettyPrinter(width=100)  # Adjust the width as needed"
   ]
  },
  {
   "cell_type": "code",
   "execution_count": 4,
   "outputs": [
    {
     "name": "stdout",
     "output_type": "stream",
     "text": [
      "Index(['AAPL'], dtype='object')\n"
     ]
    },
    {
     "data": {
      "text/plain": "        AAPL\n0    165.810\n1    165.350\n2    164.870\n3    164.920\n4    169.240\n..       ...\n246  195.830\n247  196.450\n248  195.605\n249  192.580\n250  191.170\n\n[251 rows x 1 columns]",
      "text/html": "<div>\n<style scoped>\n    .dataframe tbody tr th:only-of-type {\n        vertical-align: middle;\n    }\n\n    .dataframe tbody tr th {\n        vertical-align: top;\n    }\n\n    .dataframe thead th {\n        text-align: right;\n    }\n</style>\n<table border=\"1\" class=\"dataframe\">\n  <thead>\n    <tr style=\"text-align: right;\">\n      <th></th>\n      <th>AAPL</th>\n    </tr>\n  </thead>\n  <tbody>\n    <tr>\n      <th>0</th>\n      <td>165.810</td>\n    </tr>\n    <tr>\n      <th>1</th>\n      <td>165.350</td>\n    </tr>\n    <tr>\n      <th>2</th>\n      <td>164.870</td>\n    </tr>\n    <tr>\n      <th>3</th>\n      <td>164.920</td>\n    </tr>\n    <tr>\n      <th>4</th>\n      <td>169.240</td>\n    </tr>\n    <tr>\n      <th>...</th>\n      <td>...</td>\n    </tr>\n    <tr>\n      <th>246</th>\n      <td>195.830</td>\n    </tr>\n    <tr>\n      <th>247</th>\n      <td>196.450</td>\n    </tr>\n    <tr>\n      <th>248</th>\n      <td>195.605</td>\n    </tr>\n    <tr>\n      <th>249</th>\n      <td>192.580</td>\n    </tr>\n    <tr>\n      <th>250</th>\n      <td>191.170</td>\n    </tr>\n  </tbody>\n</table>\n<p>251 rows × 1 columns</p>\n</div>"
     },
     "execution_count": 4,
     "metadata": {},
     "output_type": "execute_result"
    }
   ],
   "source": [
    "api = AlpacaMarketsAPI(\"PK1I7YM9Q2DTEGFSPANM\", \"a660Kh8r4RLuRJrO1lxQD9LcTQNj9vpLbGIk0MZG\")\n",
    "bars = api.get_historical_bars([\"AAPL\"])\n",
    "\n",
    "history = api.get_close_bars(bars=bars)\n",
    "print(history.columns)\n",
    "history"
   ],
   "metadata": {
    "collapsed": false,
    "ExecuteTime": {
     "start_time": "2023-08-04T03:33:14.599062Z",
     "end_time": "2023-08-04T03:33:17.534371Z"
    }
   }
  },
  {
   "cell_type": "code",
   "execution_count": 11,
   "outputs": [],
   "source": [
    "class HeuristicTest(Strategy):\n",
    "    def __init__(self):\n",
    "        super().__init__()\n",
    "\n",
    "    def fit(self):\n",
    "        pass\n",
    "\n",
    "    def predict(self):\n",
    "        pass\n",
    "\n",
    "    def execute(self, row, idx, history) -> list[Signal]:\n",
    "        row_signal = pandas.Series(index=range(len(row)))\n",
    "        if row['AAPL'] > 170:\n",
    "            row_signal[0] = Signal(TradeType.BUY, 1, row['AAPL'])\n",
    "        else:\n",
    "            row_signal[0] = Signal(TradeType.WAIT)\n",
    "        return row_signal"
   ],
   "metadata": {
    "collapsed": false,
    "ExecuteTime": {
     "start_time": "2023-08-04T03:34:31.021965Z",
     "end_time": "2023-08-04T03:34:31.095567Z"
    }
   }
  },
  {
   "cell_type": "code",
   "execution_count": 12,
   "outputs": [],
   "source": [
    "from dxlib import info_logger\n",
    "\n",
    "starting_cash = 1e6\n",
    "portfolio = Portfolio()\n",
    "portfolio.add_cash(starting_cash)\n",
    "\n",
    "strategy = HeuristicTest()\n",
    "simulation = SimulationManager(portfolio, strategy, history, info_logger())"
   ],
   "metadata": {
    "collapsed": false,
    "ExecuteTime": {
     "start_time": "2023-08-04T03:34:32.003578Z",
     "end_time": "2023-08-04T03:34:32.067878Z"
    }
   }
  },
  {
   "cell_type": "code",
   "execution_count": 13,
   "outputs": [
    {
     "name": "stderr",
     "output_type": "stream",
     "text": [
      "\u001B[38;5;243m2023-08-04 03:34:32,720 - INFO - Executed BUY: 1 @ 172.1 for AAPL (simulate.py:68)\u001B[0m\n",
      "\u001B[38;5;243m2023-08-04 03:34:32,720 - INFO - Executed BUY: 1 @ 172.1 for AAPL (simulate.py:68)\u001B[0m\n",
      "\u001B[38;5;243m2023-08-04 03:34:32,720 - INFO - Executed BUY: 1 @ 172.1 for AAPL (simulate.py:68)\u001B[0m\n",
      "\u001B[38;5;243m2023-08-04 03:34:32,723 - INFO - Executed BUY: 1 @ 173.19 for AAPL (simulate.py:68)\u001B[0m\n",
      "\u001B[38;5;243m2023-08-04 03:34:32,723 - INFO - Executed BUY: 1 @ 173.19 for AAPL (simulate.py:68)\u001B[0m\n",
      "\u001B[38;5;243m2023-08-04 03:34:32,723 - INFO - Executed BUY: 1 @ 173.19 for AAPL (simulate.py:68)\u001B[0m\n",
      "\u001B[38;5;243m2023-08-04 03:34:32,725 - INFO - Executed BUY: 1 @ 173.03 for AAPL (simulate.py:68)\u001B[0m\n",
      "\u001B[38;5;243m2023-08-04 03:34:32,725 - INFO - Executed BUY: 1 @ 173.03 for AAPL (simulate.py:68)\u001B[0m\n",
      "\u001B[38;5;243m2023-08-04 03:34:32,725 - INFO - Executed BUY: 1 @ 173.03 for AAPL (simulate.py:68)\u001B[0m\n",
      "\u001B[38;5;243m2023-08-04 03:34:32,729 - INFO - Executed BUY: 1 @ 174.55 for AAPL (simulate.py:68)\u001B[0m\n",
      "\u001B[38;5;243m2023-08-04 03:34:32,729 - INFO - Executed BUY: 1 @ 174.55 for AAPL (simulate.py:68)\u001B[0m\n",
      "\u001B[38;5;243m2023-08-04 03:34:32,729 - INFO - Executed BUY: 1 @ 174.55 for AAPL (simulate.py:68)\u001B[0m\n",
      "\u001B[38;5;243m2023-08-04 03:34:32,732 - INFO - Executed BUY: 1 @ 174.15 for AAPL (simulate.py:68)\u001B[0m\n",
      "\u001B[38;5;243m2023-08-04 03:34:32,732 - INFO - Executed BUY: 1 @ 174.15 for AAPL (simulate.py:68)\u001B[0m\n",
      "\u001B[38;5;243m2023-08-04 03:34:32,732 - INFO - Executed BUY: 1 @ 174.15 for AAPL (simulate.py:68)\u001B[0m\n",
      "\u001B[38;5;243m2023-08-04 03:34:32,735 - INFO - Executed BUY: 1 @ 171.52 for AAPL (simulate.py:68)\u001B[0m\n",
      "\u001B[38;5;243m2023-08-04 03:34:32,735 - INFO - Executed BUY: 1 @ 171.52 for AAPL (simulate.py:68)\u001B[0m\n",
      "\u001B[38;5;243m2023-08-04 03:34:32,735 - INFO - Executed BUY: 1 @ 171.52 for AAPL (simulate.py:68)\u001B[0m\n",
      "\u001B[38;5;243m2023-08-04 03:34:32,739 - INFO - Executed BUY: 1 @ 170.03 for AAPL (simulate.py:68)\u001B[0m\n",
      "\u001B[38;5;243m2023-08-04 03:34:32,739 - INFO - Executed BUY: 1 @ 170.03 for AAPL (simulate.py:68)\u001B[0m\n",
      "\u001B[38;5;243m2023-08-04 03:34:32,739 - INFO - Executed BUY: 1 @ 170.03 for AAPL (simulate.py:68)\u001B[0m\n",
      "\u001B[38;5;243m2023-08-04 03:34:32,833 - INFO - Executed BUY: 1 @ 173.62 for AAPL (simulate.py:68)\u001B[0m\n",
      "\u001B[38;5;243m2023-08-04 03:34:32,833 - INFO - Executed BUY: 1 @ 173.62 for AAPL (simulate.py:68)\u001B[0m\n",
      "\u001B[38;5;243m2023-08-04 03:34:32,833 - INFO - Executed BUY: 1 @ 173.62 for AAPL (simulate.py:68)\u001B[0m\n",
      "\u001B[38;5;243m2023-08-04 03:34:32,836 - INFO - Executed BUY: 1 @ 173.5 for AAPL (simulate.py:68)\u001B[0m\n",
      "\u001B[38;5;243m2023-08-04 03:34:32,836 - INFO - Executed BUY: 1 @ 173.5 for AAPL (simulate.py:68)\u001B[0m\n",
      "\u001B[38;5;243m2023-08-04 03:34:32,836 - INFO - Executed BUY: 1 @ 173.5 for AAPL (simulate.py:68)\u001B[0m\n",
      "\u001B[38;5;243m2023-08-04 03:34:32,839 - INFO - Executed BUY: 1 @ 171.77 for AAPL (simulate.py:68)\u001B[0m\n",
      "\u001B[38;5;243m2023-08-04 03:34:32,839 - INFO - Executed BUY: 1 @ 171.77 for AAPL (simulate.py:68)\u001B[0m\n",
      "\u001B[38;5;243m2023-08-04 03:34:32,839 - INFO - Executed BUY: 1 @ 171.77 for AAPL (simulate.py:68)\u001B[0m\n",
      "\u001B[38;5;243m2023-08-04 03:34:32,842 - INFO - Executed BUY: 1 @ 173.555 for AAPL (simulate.py:68)\u001B[0m\n",
      "\u001B[38;5;243m2023-08-04 03:34:32,842 - INFO - Executed BUY: 1 @ 173.555 for AAPL (simulate.py:68)\u001B[0m\n",
      "\u001B[38;5;243m2023-08-04 03:34:32,842 - INFO - Executed BUY: 1 @ 173.555 for AAPL (simulate.py:68)\u001B[0m\n",
      "\u001B[38;5;243m2023-08-04 03:34:32,845 - INFO - Executed BUY: 1 @ 173.75 for AAPL (simulate.py:68)\u001B[0m\n",
      "\u001B[38;5;243m2023-08-04 03:34:32,845 - INFO - Executed BUY: 1 @ 173.75 for AAPL (simulate.py:68)\u001B[0m\n",
      "\u001B[38;5;243m2023-08-04 03:34:32,845 - INFO - Executed BUY: 1 @ 173.75 for AAPL (simulate.py:68)\u001B[0m\n",
      "\u001B[38;5;243m2023-08-04 03:34:32,848 - INFO - Executed BUY: 1 @ 172.57 for AAPL (simulate.py:68)\u001B[0m\n",
      "\u001B[38;5;243m2023-08-04 03:34:32,848 - INFO - Executed BUY: 1 @ 172.57 for AAPL (simulate.py:68)\u001B[0m\n",
      "\u001B[38;5;243m2023-08-04 03:34:32,848 - INFO - Executed BUY: 1 @ 172.57 for AAPL (simulate.py:68)\u001B[0m\n",
      "\u001B[38;5;243m2023-08-04 03:34:32,852 - INFO - Executed BUY: 1 @ 172.07 for AAPL (simulate.py:68)\u001B[0m\n",
      "\u001B[38;5;243m2023-08-04 03:34:32,852 - INFO - Executed BUY: 1 @ 172.07 for AAPL (simulate.py:68)\u001B[0m\n",
      "\u001B[38;5;243m2023-08-04 03:34:32,852 - INFO - Executed BUY: 1 @ 172.07 for AAPL (simulate.py:68)\u001B[0m\n",
      "\u001B[38;5;243m2023-08-04 03:34:32,854 - INFO - Executed BUY: 1 @ 172.07 for AAPL (simulate.py:68)\u001B[0m\n",
      "\u001B[38;5;243m2023-08-04 03:34:32,854 - INFO - Executed BUY: 1 @ 172.07 for AAPL (simulate.py:68)\u001B[0m\n",
      "\u001B[38;5;243m2023-08-04 03:34:32,854 - INFO - Executed BUY: 1 @ 172.07 for AAPL (simulate.py:68)\u001B[0m\n",
      "\u001B[38;5;243m2023-08-04 03:34:32,857 - INFO - Executed BUY: 1 @ 172.69 for AAPL (simulate.py:68)\u001B[0m\n",
      "\u001B[38;5;243m2023-08-04 03:34:32,857 - INFO - Executed BUY: 1 @ 172.69 for AAPL (simulate.py:68)\u001B[0m\n",
      "\u001B[38;5;243m2023-08-04 03:34:32,857 - INFO - Executed BUY: 1 @ 172.69 for AAPL (simulate.py:68)\u001B[0m\n",
      "\u001B[38;5;243m2023-08-04 03:34:32,860 - INFO - Executed BUY: 1 @ 175.05 for AAPL (simulate.py:68)\u001B[0m\n",
      "\u001B[38;5;243m2023-08-04 03:34:32,860 - INFO - Executed BUY: 1 @ 175.05 for AAPL (simulate.py:68)\u001B[0m\n",
      "\u001B[38;5;243m2023-08-04 03:34:32,860 - INFO - Executed BUY: 1 @ 175.05 for AAPL (simulate.py:68)\u001B[0m\n",
      "\u001B[38;5;243m2023-08-04 03:34:32,864 - INFO - Executed BUY: 1 @ 175.21 for AAPL (simulate.py:68)\u001B[0m\n",
      "\u001B[38;5;243m2023-08-04 03:34:32,864 - INFO - Executed BUY: 1 @ 175.21 for AAPL (simulate.py:68)\u001B[0m\n",
      "\u001B[38;5;243m2023-08-04 03:34:32,864 - INFO - Executed BUY: 1 @ 175.21 for AAPL (simulate.py:68)\u001B[0m\n",
      "\u001B[38;5;243m2023-08-04 03:34:32,866 - INFO - Executed BUY: 1 @ 174.2 for AAPL (simulate.py:68)\u001B[0m\n",
      "\u001B[38;5;243m2023-08-04 03:34:32,866 - INFO - Executed BUY: 1 @ 174.2 for AAPL (simulate.py:68)\u001B[0m\n",
      "\u001B[38;5;243m2023-08-04 03:34:32,866 - INFO - Executed BUY: 1 @ 174.2 for AAPL (simulate.py:68)\u001B[0m\n",
      "\u001B[38;5;243m2023-08-04 03:34:32,870 - INFO - Executed BUY: 1 @ 171.56 for AAPL (simulate.py:68)\u001B[0m\n",
      "\u001B[38;5;243m2023-08-04 03:34:32,870 - INFO - Executed BUY: 1 @ 171.56 for AAPL (simulate.py:68)\u001B[0m\n",
      "\u001B[38;5;243m2023-08-04 03:34:32,870 - INFO - Executed BUY: 1 @ 171.56 for AAPL (simulate.py:68)\u001B[0m\n",
      "\u001B[38;5;243m2023-08-04 03:34:32,873 - INFO - Executed BUY: 1 @ 171.84 for AAPL (simulate.py:68)\u001B[0m\n",
      "\u001B[38;5;243m2023-08-04 03:34:32,873 - INFO - Executed BUY: 1 @ 171.84 for AAPL (simulate.py:68)\u001B[0m\n",
      "\u001B[38;5;243m2023-08-04 03:34:32,873 - INFO - Executed BUY: 1 @ 171.84 for AAPL (simulate.py:68)\u001B[0m\n",
      "\u001B[38;5;243m2023-08-04 03:34:32,876 - INFO - Executed BUY: 1 @ 172.99 for AAPL (simulate.py:68)\u001B[0m\n",
      "\u001B[38;5;243m2023-08-04 03:34:32,876 - INFO - Executed BUY: 1 @ 172.99 for AAPL (simulate.py:68)\u001B[0m\n",
      "\u001B[38;5;243m2023-08-04 03:34:32,876 - INFO - Executed BUY: 1 @ 172.99 for AAPL (simulate.py:68)\u001B[0m\n",
      "\u001B[38;5;243m2023-08-04 03:34:32,880 - INFO - Executed BUY: 1 @ 175.43 for AAPL (simulate.py:68)\u001B[0m\n",
      "\u001B[38;5;243m2023-08-04 03:34:32,880 - INFO - Executed BUY: 1 @ 175.43 for AAPL (simulate.py:68)\u001B[0m\n",
      "\u001B[38;5;243m2023-08-04 03:34:32,880 - INFO - Executed BUY: 1 @ 175.43 for AAPL (simulate.py:68)\u001B[0m\n",
      "\u001B[38;5;243m2023-08-04 03:34:32,884 - INFO - Executed BUY: 1 @ 177.3 for AAPL (simulate.py:68)\u001B[0m\n",
      "\u001B[38;5;243m2023-08-04 03:34:32,884 - INFO - Executed BUY: 1 @ 177.3 for AAPL (simulate.py:68)\u001B[0m\n",
      "\u001B[38;5;243m2023-08-04 03:34:32,884 - INFO - Executed BUY: 1 @ 177.3 for AAPL (simulate.py:68)\u001B[0m\n",
      "\u001B[38;5;243m2023-08-04 03:34:32,887 - INFO - Executed BUY: 1 @ 177.25 for AAPL (simulate.py:68)\u001B[0m\n",
      "\u001B[38;5;243m2023-08-04 03:34:32,887 - INFO - Executed BUY: 1 @ 177.25 for AAPL (simulate.py:68)\u001B[0m\n",
      "\u001B[38;5;243m2023-08-04 03:34:32,887 - INFO - Executed BUY: 1 @ 177.25 for AAPL (simulate.py:68)\u001B[0m\n",
      "\u001B[38;5;243m2023-08-04 03:34:32,890 - INFO - Executed BUY: 1 @ 180.09 for AAPL (simulate.py:68)\u001B[0m\n",
      "\u001B[38;5;243m2023-08-04 03:34:32,890 - INFO - Executed BUY: 1 @ 180.09 for AAPL (simulate.py:68)\u001B[0m\n",
      "\u001B[38;5;243m2023-08-04 03:34:32,890 - INFO - Executed BUY: 1 @ 180.09 for AAPL (simulate.py:68)\u001B[0m\n",
      "\u001B[38;5;243m2023-08-04 03:34:32,893 - INFO - Executed BUY: 1 @ 180.95 for AAPL (simulate.py:68)\u001B[0m\n",
      "\u001B[38;5;243m2023-08-04 03:34:32,893 - INFO - Executed BUY: 1 @ 180.95 for AAPL (simulate.py:68)\u001B[0m\n",
      "\u001B[38;5;243m2023-08-04 03:34:32,893 - INFO - Executed BUY: 1 @ 180.95 for AAPL (simulate.py:68)\u001B[0m\n",
      "\u001B[38;5;243m2023-08-04 03:34:32,897 - INFO - Executed BUY: 1 @ 179.58 for AAPL (simulate.py:68)\u001B[0m\n",
      "\u001B[38;5;243m2023-08-04 03:34:32,897 - INFO - Executed BUY: 1 @ 179.58 for AAPL (simulate.py:68)\u001B[0m\n",
      "\u001B[38;5;243m2023-08-04 03:34:32,897 - INFO - Executed BUY: 1 @ 179.58 for AAPL (simulate.py:68)\u001B[0m\n",
      "\u001B[38;5;243m2023-08-04 03:34:32,900 - INFO - Executed BUY: 1 @ 179.21 for AAPL (simulate.py:68)\u001B[0m\n",
      "\u001B[38;5;243m2023-08-04 03:34:32,900 - INFO - Executed BUY: 1 @ 179.21 for AAPL (simulate.py:68)\u001B[0m\n",
      "\u001B[38;5;243m2023-08-04 03:34:32,900 - INFO - Executed BUY: 1 @ 179.21 for AAPL (simulate.py:68)\u001B[0m\n",
      "\u001B[38;5;243m2023-08-04 03:34:32,904 - INFO - Executed BUY: 1 @ 177.82 for AAPL (simulate.py:68)\u001B[0m\n",
      "\u001B[38;5;243m2023-08-04 03:34:32,904 - INFO - Executed BUY: 1 @ 177.82 for AAPL (simulate.py:68)\u001B[0m\n",
      "\u001B[38;5;243m2023-08-04 03:34:32,904 - INFO - Executed BUY: 1 @ 177.82 for AAPL (simulate.py:68)\u001B[0m\n",
      "\u001B[38;5;243m2023-08-04 03:34:32,907 - INFO - Executed BUY: 1 @ 180.57 for AAPL (simulate.py:68)\u001B[0m\n",
      "\u001B[38;5;243m2023-08-04 03:34:32,907 - INFO - Executed BUY: 1 @ 180.57 for AAPL (simulate.py:68)\u001B[0m\n",
      "\u001B[38;5;243m2023-08-04 03:34:32,907 - INFO - Executed BUY: 1 @ 180.57 for AAPL (simulate.py:68)\u001B[0m\n",
      "\u001B[38;5;243m2023-08-04 03:34:32,910 - INFO - Executed BUY: 1 @ 180.96 for AAPL (simulate.py:68)\u001B[0m\n",
      "\u001B[38;5;243m2023-08-04 03:34:32,910 - INFO - Executed BUY: 1 @ 180.96 for AAPL (simulate.py:68)\u001B[0m\n",
      "\u001B[38;5;243m2023-08-04 03:34:32,910 - INFO - Executed BUY: 1 @ 180.96 for AAPL (simulate.py:68)\u001B[0m\n",
      "\u001B[38;5;243m2023-08-04 03:34:32,913 - INFO - Executed BUY: 1 @ 183.84 for AAPL (simulate.py:68)\u001B[0m\n",
      "\u001B[38;5;243m2023-08-04 03:34:32,913 - INFO - Executed BUY: 1 @ 183.84 for AAPL (simulate.py:68)\u001B[0m\n",
      "\u001B[38;5;243m2023-08-04 03:34:32,913 - INFO - Executed BUY: 1 @ 183.84 for AAPL (simulate.py:68)\u001B[0m\n",
      "\u001B[38;5;243m2023-08-04 03:34:32,917 - INFO - Executed BUY: 1 @ 183.31 for AAPL (simulate.py:68)\u001B[0m\n",
      "\u001B[38;5;243m2023-08-04 03:34:32,917 - INFO - Executed BUY: 1 @ 183.31 for AAPL (simulate.py:68)\u001B[0m\n",
      "\u001B[38;5;243m2023-08-04 03:34:32,917 - INFO - Executed BUY: 1 @ 183.31 for AAPL (simulate.py:68)\u001B[0m\n",
      "\u001B[38;5;243m2023-08-04 03:34:32,919 - INFO - Executed BUY: 1 @ 183.95 for AAPL (simulate.py:68)\u001B[0m\n",
      "\u001B[38;5;243m2023-08-04 03:34:32,919 - INFO - Executed BUY: 1 @ 183.95 for AAPL (simulate.py:68)\u001B[0m\n",
      "\u001B[38;5;243m2023-08-04 03:34:32,919 - INFO - Executed BUY: 1 @ 183.95 for AAPL (simulate.py:68)\u001B[0m\n",
      "\u001B[38;5;243m2023-08-04 03:34:32,922 - INFO - Executed BUY: 1 @ 186.01 for AAPL (simulate.py:68)\u001B[0m\n",
      "\u001B[38;5;243m2023-08-04 03:34:32,922 - INFO - Executed BUY: 1 @ 186.01 for AAPL (simulate.py:68)\u001B[0m\n",
      "\u001B[38;5;243m2023-08-04 03:34:32,922 - INFO - Executed BUY: 1 @ 186.01 for AAPL (simulate.py:68)\u001B[0m\n",
      "\u001B[38;5;243m2023-08-04 03:34:32,924 - INFO - Executed BUY: 1 @ 185.02 for AAPL (simulate.py:68)\u001B[0m\n",
      "\u001B[38;5;243m2023-08-04 03:34:32,924 - INFO - Executed BUY: 1 @ 185.02 for AAPL (simulate.py:68)\u001B[0m\n",
      "\u001B[38;5;243m2023-08-04 03:34:32,924 - INFO - Executed BUY: 1 @ 185.02 for AAPL (simulate.py:68)\u001B[0m\n",
      "\u001B[38;5;243m2023-08-04 03:34:32,929 - INFO - Executed BUY: 1 @ 185.01 for AAPL (simulate.py:68)\u001B[0m\n",
      "\u001B[38;5;243m2023-08-04 03:34:32,929 - INFO - Executed BUY: 1 @ 185.01 for AAPL (simulate.py:68)\u001B[0m\n",
      "\u001B[38;5;243m2023-08-04 03:34:32,929 - INFO - Executed BUY: 1 @ 185.01 for AAPL (simulate.py:68)\u001B[0m\n",
      "\u001B[38;5;243m2023-08-04 03:34:32,932 - INFO - Executed BUY: 1 @ 183.96 for AAPL (simulate.py:68)\u001B[0m\n",
      "\u001B[38;5;243m2023-08-04 03:34:32,932 - INFO - Executed BUY: 1 @ 183.96 for AAPL (simulate.py:68)\u001B[0m\n",
      "\u001B[38;5;243m2023-08-04 03:34:32,932 - INFO - Executed BUY: 1 @ 183.96 for AAPL (simulate.py:68)\u001B[0m\n",
      "\u001B[38;5;243m2023-08-04 03:34:32,935 - INFO - Executed BUY: 1 @ 187.0 for AAPL (simulate.py:68)\u001B[0m\n",
      "\u001B[38;5;243m2023-08-04 03:34:32,935 - INFO - Executed BUY: 1 @ 187.0 for AAPL (simulate.py:68)\u001B[0m\n",
      "\u001B[38;5;243m2023-08-04 03:34:32,935 - INFO - Executed BUY: 1 @ 187.0 for AAPL (simulate.py:68)\u001B[0m\n",
      "\u001B[38;5;243m2023-08-04 03:34:32,938 - INFO - Executed BUY: 1 @ 186.68 for AAPL (simulate.py:68)\u001B[0m\n",
      "\u001B[38;5;243m2023-08-04 03:34:32,938 - INFO - Executed BUY: 1 @ 186.68 for AAPL (simulate.py:68)\u001B[0m\n",
      "\u001B[38;5;243m2023-08-04 03:34:32,938 - INFO - Executed BUY: 1 @ 186.68 for AAPL (simulate.py:68)\u001B[0m\n",
      "\u001B[38;5;243m2023-08-04 03:34:32,941 - INFO - Executed BUY: 1 @ 185.27 for AAPL (simulate.py:68)\u001B[0m\n",
      "\u001B[38;5;243m2023-08-04 03:34:32,941 - INFO - Executed BUY: 1 @ 185.27 for AAPL (simulate.py:68)\u001B[0m\n",
      "\u001B[38;5;243m2023-08-04 03:34:32,941 - INFO - Executed BUY: 1 @ 185.27 for AAPL (simulate.py:68)\u001B[0m\n",
      "\u001B[38;5;243m2023-08-04 03:34:32,945 - INFO - Executed BUY: 1 @ 188.06 for AAPL (simulate.py:68)\u001B[0m\n",
      "\u001B[38;5;243m2023-08-04 03:34:32,945 - INFO - Executed BUY: 1 @ 188.06 for AAPL (simulate.py:68)\u001B[0m\n",
      "\u001B[38;5;243m2023-08-04 03:34:32,945 - INFO - Executed BUY: 1 @ 188.06 for AAPL (simulate.py:68)\u001B[0m\n",
      "\u001B[38;5;243m2023-08-04 03:34:32,948 - INFO - Executed BUY: 1 @ 189.25 for AAPL (simulate.py:68)\u001B[0m\n",
      "\u001B[38;5;243m2023-08-04 03:34:32,948 - INFO - Executed BUY: 1 @ 189.25 for AAPL (simulate.py:68)\u001B[0m\n",
      "\u001B[38;5;243m2023-08-04 03:34:32,948 - INFO - Executed BUY: 1 @ 189.25 for AAPL (simulate.py:68)\u001B[0m\n",
      "\u001B[38;5;243m2023-08-04 03:34:32,951 - INFO - Executed BUY: 1 @ 189.59 for AAPL (simulate.py:68)\u001B[0m\n",
      "\u001B[38;5;243m2023-08-04 03:34:32,951 - INFO - Executed BUY: 1 @ 189.59 for AAPL (simulate.py:68)\u001B[0m\n",
      "\u001B[38;5;243m2023-08-04 03:34:32,951 - INFO - Executed BUY: 1 @ 189.59 for AAPL (simulate.py:68)\u001B[0m\n",
      "\u001B[38;5;243m2023-08-04 03:34:32,954 - INFO - Executed BUY: 1 @ 193.88 for AAPL (simulate.py:68)\u001B[0m\n",
      "\u001B[38;5;243m2023-08-04 03:34:32,954 - INFO - Executed BUY: 1 @ 193.88 for AAPL (simulate.py:68)\u001B[0m\n",
      "\u001B[38;5;243m2023-08-04 03:34:32,954 - INFO - Executed BUY: 1 @ 193.88 for AAPL (simulate.py:68)\u001B[0m\n",
      "\u001B[38;5;243m2023-08-04 03:34:32,957 - INFO - Executed BUY: 1 @ 192.46 for AAPL (simulate.py:68)\u001B[0m\n",
      "\u001B[38;5;243m2023-08-04 03:34:32,957 - INFO - Executed BUY: 1 @ 192.46 for AAPL (simulate.py:68)\u001B[0m\n",
      "\u001B[38;5;243m2023-08-04 03:34:32,957 - INFO - Executed BUY: 1 @ 192.46 for AAPL (simulate.py:68)\u001B[0m\n",
      "\u001B[38;5;243m2023-08-04 03:34:32,960 - INFO - Executed BUY: 1 @ 191.33 for AAPL (simulate.py:68)\u001B[0m\n",
      "\u001B[38;5;243m2023-08-04 03:34:32,960 - INFO - Executed BUY: 1 @ 191.33 for AAPL (simulate.py:68)\u001B[0m\n",
      "\u001B[38;5;243m2023-08-04 03:34:32,960 - INFO - Executed BUY: 1 @ 191.33 for AAPL (simulate.py:68)\u001B[0m\n",
      "\u001B[38;5;243m2023-08-04 03:34:32,963 - INFO - Executed BUY: 1 @ 191.81 for AAPL (simulate.py:68)\u001B[0m\n",
      "\u001B[38;5;243m2023-08-04 03:34:32,963 - INFO - Executed BUY: 1 @ 191.81 for AAPL (simulate.py:68)\u001B[0m\n",
      "\u001B[38;5;243m2023-08-04 03:34:32,963 - INFO - Executed BUY: 1 @ 191.81 for AAPL (simulate.py:68)\u001B[0m\n",
      "\u001B[38;5;243m2023-08-04 03:34:32,966 - INFO - Executed BUY: 1 @ 190.68 for AAPL (simulate.py:68)\u001B[0m\n",
      "\u001B[38;5;243m2023-08-04 03:34:32,966 - INFO - Executed BUY: 1 @ 190.68 for AAPL (simulate.py:68)\u001B[0m\n",
      "\u001B[38;5;243m2023-08-04 03:34:32,966 - INFO - Executed BUY: 1 @ 190.68 for AAPL (simulate.py:68)\u001B[0m\n",
      "\u001B[38;5;243m2023-08-04 03:34:32,969 - INFO - Executed BUY: 1 @ 188.61 for AAPL (simulate.py:68)\u001B[0m\n",
      "\u001B[38;5;243m2023-08-04 03:34:32,969 - INFO - Executed BUY: 1 @ 188.61 for AAPL (simulate.py:68)\u001B[0m\n",
      "\u001B[38;5;243m2023-08-04 03:34:32,969 - INFO - Executed BUY: 1 @ 188.61 for AAPL (simulate.py:68)\u001B[0m\n",
      "\u001B[38;5;243m2023-08-04 03:34:32,971 - INFO - Executed BUY: 1 @ 188.08 for AAPL (simulate.py:68)\u001B[0m\n",
      "\u001B[38;5;243m2023-08-04 03:34:32,971 - INFO - Executed BUY: 1 @ 188.08 for AAPL (simulate.py:68)\u001B[0m\n",
      "\u001B[38;5;243m2023-08-04 03:34:32,971 - INFO - Executed BUY: 1 @ 188.08 for AAPL (simulate.py:68)\u001B[0m\n",
      "\u001B[38;5;243m2023-08-04 03:34:32,974 - INFO - Executed BUY: 1 @ 189.77 for AAPL (simulate.py:68)\u001B[0m\n",
      "\u001B[38;5;243m2023-08-04 03:34:32,974 - INFO - Executed BUY: 1 @ 189.77 for AAPL (simulate.py:68)\u001B[0m\n",
      "\u001B[38;5;243m2023-08-04 03:34:32,974 - INFO - Executed BUY: 1 @ 189.77 for AAPL (simulate.py:68)\u001B[0m\n",
      "\u001B[38;5;243m2023-08-04 03:34:32,976 - INFO - Executed BUY: 1 @ 190.54 for AAPL (simulate.py:68)\u001B[0m\n",
      "\u001B[38;5;243m2023-08-04 03:34:32,976 - INFO - Executed BUY: 1 @ 190.54 for AAPL (simulate.py:68)\u001B[0m\n",
      "\u001B[38;5;243m2023-08-04 03:34:32,976 - INFO - Executed BUY: 1 @ 190.54 for AAPL (simulate.py:68)\u001B[0m\n",
      "\u001B[38;5;243m2023-08-04 03:34:32,980 - INFO - Executed BUY: 1 @ 190.69 for AAPL (simulate.py:68)\u001B[0m\n",
      "\u001B[38;5;243m2023-08-04 03:34:32,980 - INFO - Executed BUY: 1 @ 190.69 for AAPL (simulate.py:68)\u001B[0m\n",
      "\u001B[38;5;243m2023-08-04 03:34:32,980 - INFO - Executed BUY: 1 @ 190.69 for AAPL (simulate.py:68)\u001B[0m\n",
      "\u001B[38;5;243m2023-08-04 03:34:32,983 - INFO - Executed BUY: 1 @ 193.99 for AAPL (simulate.py:68)\u001B[0m\n",
      "\u001B[38;5;243m2023-08-04 03:34:32,983 - INFO - Executed BUY: 1 @ 193.99 for AAPL (simulate.py:68)\u001B[0m\n",
      "\u001B[38;5;243m2023-08-04 03:34:32,983 - INFO - Executed BUY: 1 @ 193.99 for AAPL (simulate.py:68)\u001B[0m\n",
      "\u001B[38;5;243m2023-08-04 03:34:32,985 - INFO - Executed BUY: 1 @ 193.73 for AAPL (simulate.py:68)\u001B[0m\n",
      "\u001B[38;5;243m2023-08-04 03:34:32,985 - INFO - Executed BUY: 1 @ 193.73 for AAPL (simulate.py:68)\u001B[0m\n",
      "\u001B[38;5;243m2023-08-04 03:34:32,985 - INFO - Executed BUY: 1 @ 193.73 for AAPL (simulate.py:68)\u001B[0m\n",
      "\u001B[38;5;243m2023-08-04 03:34:32,988 - INFO - Executed BUY: 1 @ 195.1 for AAPL (simulate.py:68)\u001B[0m\n",
      "\u001B[38;5;243m2023-08-04 03:34:32,988 - INFO - Executed BUY: 1 @ 195.1 for AAPL (simulate.py:68)\u001B[0m\n",
      "\u001B[38;5;243m2023-08-04 03:34:32,988 - INFO - Executed BUY: 1 @ 195.1 for AAPL (simulate.py:68)\u001B[0m\n",
      "\u001B[38;5;243m2023-08-04 03:34:32,990 - INFO - Executed BUY: 1 @ 193.13 for AAPL (simulate.py:68)\u001B[0m\n",
      "\u001B[38;5;243m2023-08-04 03:34:32,990 - INFO - Executed BUY: 1 @ 193.13 for AAPL (simulate.py:68)\u001B[0m\n",
      "\u001B[38;5;243m2023-08-04 03:34:32,990 - INFO - Executed BUY: 1 @ 193.13 for AAPL (simulate.py:68)\u001B[0m\n",
      "\u001B[38;5;243m2023-08-04 03:34:32,993 - INFO - Executed BUY: 1 @ 191.94 for AAPL (simulate.py:68)\u001B[0m\n",
      "\u001B[38;5;243m2023-08-04 03:34:32,993 - INFO - Executed BUY: 1 @ 191.94 for AAPL (simulate.py:68)\u001B[0m\n",
      "\u001B[38;5;243m2023-08-04 03:34:32,993 - INFO - Executed BUY: 1 @ 191.94 for AAPL (simulate.py:68)\u001B[0m\n",
      "\u001B[38;5;243m2023-08-04 03:34:32,996 - INFO - Executed BUY: 1 @ 192.75 for AAPL (simulate.py:68)\u001B[0m\n",
      "\u001B[38;5;243m2023-08-04 03:34:32,996 - INFO - Executed BUY: 1 @ 192.75 for AAPL (simulate.py:68)\u001B[0m\n",
      "\u001B[38;5;243m2023-08-04 03:34:32,996 - INFO - Executed BUY: 1 @ 192.75 for AAPL (simulate.py:68)\u001B[0m\n",
      "\u001B[38;5;243m2023-08-04 03:34:32,999 - INFO - Executed BUY: 1 @ 193.62 for AAPL (simulate.py:68)\u001B[0m\n",
      "\u001B[38;5;243m2023-08-04 03:34:32,999 - INFO - Executed BUY: 1 @ 193.62 for AAPL (simulate.py:68)\u001B[0m\n",
      "\u001B[38;5;243m2023-08-04 03:34:32,999 - INFO - Executed BUY: 1 @ 193.62 for AAPL (simulate.py:68)\u001B[0m\n",
      "\u001B[38;5;243m2023-08-04 03:34:33,001 - INFO - Executed BUY: 1 @ 194.5 for AAPL (simulate.py:68)\u001B[0m\n",
      "\u001B[38;5;243m2023-08-04 03:34:33,001 - INFO - Executed BUY: 1 @ 194.5 for AAPL (simulate.py:68)\u001B[0m\n",
      "\u001B[38;5;243m2023-08-04 03:34:33,001 - INFO - Executed BUY: 1 @ 194.5 for AAPL (simulate.py:68)\u001B[0m\n",
      "\u001B[38;5;243m2023-08-04 03:34:33,004 - INFO - Executed BUY: 1 @ 193.22 for AAPL (simulate.py:68)\u001B[0m\n",
      "\u001B[38;5;243m2023-08-04 03:34:33,004 - INFO - Executed BUY: 1 @ 193.22 for AAPL (simulate.py:68)\u001B[0m\n",
      "\u001B[38;5;243m2023-08-04 03:34:33,004 - INFO - Executed BUY: 1 @ 193.22 for AAPL (simulate.py:68)\u001B[0m\n",
      "\u001B[38;5;243m2023-08-04 03:34:33,008 - INFO - Executed BUY: 1 @ 195.83 for AAPL (simulate.py:68)\u001B[0m\n",
      "\u001B[38;5;243m2023-08-04 03:34:33,008 - INFO - Executed BUY: 1 @ 195.83 for AAPL (simulate.py:68)\u001B[0m\n",
      "\u001B[38;5;243m2023-08-04 03:34:33,008 - INFO - Executed BUY: 1 @ 195.83 for AAPL (simulate.py:68)\u001B[0m\n",
      "\u001B[38;5;243m2023-08-04 03:34:33,011 - INFO - Executed BUY: 1 @ 196.45 for AAPL (simulate.py:68)\u001B[0m\n",
      "\u001B[38;5;243m2023-08-04 03:34:33,011 - INFO - Executed BUY: 1 @ 196.45 for AAPL (simulate.py:68)\u001B[0m\n",
      "\u001B[38;5;243m2023-08-04 03:34:33,011 - INFO - Executed BUY: 1 @ 196.45 for AAPL (simulate.py:68)\u001B[0m\n",
      "\u001B[38;5;243m2023-08-04 03:34:33,014 - INFO - Executed BUY: 1 @ 195.605 for AAPL (simulate.py:68)\u001B[0m\n",
      "\u001B[38;5;243m2023-08-04 03:34:33,014 - INFO - Executed BUY: 1 @ 195.605 for AAPL (simulate.py:68)\u001B[0m\n",
      "\u001B[38;5;243m2023-08-04 03:34:33,014 - INFO - Executed BUY: 1 @ 195.605 for AAPL (simulate.py:68)\u001B[0m\n",
      "\u001B[38;5;243m2023-08-04 03:34:33,019 - INFO - Executed BUY: 1 @ 192.58 for AAPL (simulate.py:68)\u001B[0m\n",
      "\u001B[38;5;243m2023-08-04 03:34:33,019 - INFO - Executed BUY: 1 @ 192.58 for AAPL (simulate.py:68)\u001B[0m\n",
      "\u001B[38;5;243m2023-08-04 03:34:33,019 - INFO - Executed BUY: 1 @ 192.58 for AAPL (simulate.py:68)\u001B[0m\n",
      "\u001B[38;5;243m2023-08-04 03:34:33,023 - INFO - Executed BUY: 1 @ 191.17 for AAPL (simulate.py:68)\u001B[0m\n",
      "\u001B[38;5;243m2023-08-04 03:34:33,023 - INFO - Executed BUY: 1 @ 191.17 for AAPL (simulate.py:68)\u001B[0m\n",
      "\u001B[38;5;243m2023-08-04 03:34:33,023 - INFO - Executed BUY: 1 @ 191.17 for AAPL (simulate.py:68)\u001B[0m\n"
     ]
    },
    {
     "name": "stdout",
     "output_type": "stream",
     "text": [
      "-557.4500000007683\n"
     ]
    }
   ],
   "source": [
    "historical_quantity = simulation.execute()\n",
    "print(starting_cash - portfolio.current_value)"
   ],
   "metadata": {
    "collapsed": false,
    "ExecuteTime": {
     "start_time": "2023-08-04T03:34:32.576315Z",
     "end_time": "2023-08-04T03:34:33.068469Z"
    }
   }
  },
  {
   "cell_type": "code",
   "execution_count": null,
   "outputs": [],
   "source": [],
   "metadata": {
    "collapsed": false
   }
  }
 ],
 "metadata": {
  "kernelspec": {
   "display_name": "Python 3",
   "language": "python",
   "name": "python3"
  },
  "language_info": {
   "codemirror_mode": {
    "name": "ipython",
    "version": 2
   },
   "file_extension": ".py",
   "mimetype": "text/x-python",
   "name": "python",
   "nbconvert_exporter": "python",
   "pygments_lexer": "ipython2",
   "version": "2.7.6"
  }
 },
 "nbformat": 4,
 "nbformat_minor": 0
}
