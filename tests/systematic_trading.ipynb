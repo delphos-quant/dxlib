{
 "cells": [
  {
   "cell_type": "code",
   "execution_count": 1,
   "outputs": [],
   "source": [
    "%load_ext autoreload\n",
    "%autoreload 2"
   ],
   "metadata": {
    "collapsed": false,
    "ExecuteTime": {
     "start_time": "2023-08-19T14:02:30.890055Z",
     "end_time": "2023-08-19T14:02:30.952555Z"
    }
   }
  },
  {
   "cell_type": "code",
   "execution_count": 2,
   "metadata": {
    "collapsed": true,
    "ExecuteTime": {
     "start_time": "2023-08-19T14:02:30.936927Z",
     "end_time": "2023-08-19T14:02:32.673859Z"
    }
   },
   "outputs": [],
   "source": [
    "import config\n",
    "\n",
    "from dxlib import Portfolio, strategies\n",
    "from dxlib.simulation import SimulationManager\n",
    "from dxlib.api import AlpacaMarketsAPI\n",
    "\n",
    "import pprint\n",
    "pp = pprint.PrettyPrinter(width=100)"
   ]
  },
  {
   "cell_type": "code",
   "execution_count": 3,
   "outputs": [],
   "source": [
    "api = AlpacaMarketsAPI(config.alpaca_market_api_key, config.alpaca_market_api_secret)\n",
    "historical_bars = api.get_historical_bars(\"AAPL\", \"2021-03-01\")"
   ],
   "metadata": {
    "collapsed": false,
    "ExecuteTime": {
     "start_time": "2023-08-19T14:02:32.673859Z",
     "end_time": "2023-08-19T14:02:32.767606Z"
    }
   }
  },
  {
   "cell_type": "code",
   "execution_count": 5,
   "outputs": [],
   "source": [
    "starting_cash = 1e6\n",
    "portfolio = Portfolio()\n",
    "portfolio.add_cash(starting_cash)\n",
    "\n",
    "strategy = strategies.RsiStrategy()\n",
    "simulation = SimulationManager(portfolio, strategy, historical_bars[\"Close\"])"
   ],
   "metadata": {
    "collapsed": false,
    "ExecuteTime": {
     "start_time": "2023-08-19T14:02:36.977089Z",
     "end_time": "2023-08-19T14:02:37.067289Z"
    }
   }
  },
  {
   "cell_type": "code",
   "execution_count": 8,
   "outputs": [
    {
     "name": "stdout",
     "output_type": "stream",
     "text": [
      "[<dxlib.core.portfolio.Signal object at 0x0000024E9F6A0BE0>, <dxlib.core.portfolio.Signal object at 0x0000024E9E8144C0>, <dxlib.core.portfolio.Signal object at 0x0000024E9F6A0E80>, <dxlib.core.portfolio.Signal object at 0x0000024E9E8163B0>, <dxlib.core.portfolio.Signal object at 0x0000024E9E815300>, <dxlib.core.portfolio.Signal object at 0x0000024E9F6A0AF0>, <dxlib.core.portfolio.Signal object at 0x0000024E9F6A0B50>, <dxlib.core.portfolio.Signal object at 0x0000024E9F6A1270>, <dxlib.core.portfolio.Signal object at 0x0000024E9E8143A0>, <dxlib.core.portfolio.Signal object at 0x0000024E9F6A3790>, <dxlib.core.portfolio.Signal object at 0x0000024E9F6A12A0>, <dxlib.core.portfolio.Signal object at 0x0000024E9F6A3640>, <dxlib.core.portfolio.Signal object at 0x0000024E9F6A1660>, <dxlib.core.portfolio.Signal object at 0x0000024E9F6A36D0>, <dxlib.core.portfolio.Signal object at 0x0000024E9F6A33A0>, <dxlib.core.portfolio.Signal object at 0x0000024E9F6A1060>, <dxlib.core.portfolio.Signal object at 0x0000024E9F6A3730>, <dxlib.core.portfolio.Signal object at 0x0000024E9F6A0280>, <dxlib.core.portfolio.Signal object at 0x0000024E9F6A1930>, <dxlib.core.portfolio.Signal object at 0x0000024E9F6A1D50>, <dxlib.core.portfolio.Signal object at 0x0000024E9F6A1CF0>, <dxlib.core.portfolio.Signal object at 0x0000024E9F6A18D0>, <dxlib.core.portfolio.Signal object at 0x0000024E9F6A1C30>, <dxlib.core.portfolio.Signal object at 0x0000024E9F6A3670>, <dxlib.core.portfolio.Signal object at 0x0000024E9F6A1B70>, <dxlib.core.portfolio.Signal object at 0x0000024E9F6A1B40>, <dxlib.core.portfolio.Signal object at 0x0000024E9F6A17E0>, <dxlib.core.portfolio.Signal object at 0x0000024E9F6A34F0>, <dxlib.core.portfolio.Signal object at 0x0000024E9F6A3370>, <dxlib.core.portfolio.Signal object at 0x0000024E9F6A2E60>, <dxlib.core.portfolio.Signal object at 0x0000024E9F6A2B00>, <dxlib.core.portfolio.Signal object at 0x0000024E9F6A20E0>, <dxlib.core.portfolio.Signal object at 0x0000024E9F6A24A0>, <dxlib.core.portfolio.Signal object at 0x0000024E9E8141F0>, <dxlib.core.portfolio.Signal object at 0x0000024E9F6A3820>, <dxlib.core.portfolio.Signal object at 0x0000024E9F6A2680>, <dxlib.core.portfolio.Signal object at 0x0000024E9F6A24D0>, <dxlib.core.portfolio.Signal object at 0x0000024E9F6A2170>, <dxlib.core.portfolio.Signal object at 0x0000024E9F6A21A0>, <dxlib.core.portfolio.Signal object at 0x0000024E9F6A25F0>, <dxlib.core.portfolio.Signal object at 0x0000024E9F6A1E10>, <dxlib.core.portfolio.Signal object at 0x0000024E9F6A0A60>, <dxlib.core.portfolio.Signal object at 0x0000024E9F6A1690>, <dxlib.core.portfolio.Signal object at 0x0000024E9F4EC160>, <dxlib.core.portfolio.Signal object at 0x0000024E9F6A1FC0>, <dxlib.core.portfolio.Signal object at 0x0000024E9F6A1DE0>, <dxlib.core.portfolio.Signal object at 0x0000024E9F6A2BF0>, <dxlib.core.portfolio.Signal object at 0x0000024E9F6A1330>, <dxlib.core.portfolio.Signal object at 0x0000024E9F4EC790>, <dxlib.core.portfolio.Signal object at 0x0000024E9F6A1F90>, <dxlib.core.portfolio.Signal object at 0x0000024E9F6A2D10>, <dxlib.core.portfolio.Signal object at 0x0000024E9F6A2500>, <dxlib.core.portfolio.Signal object at 0x0000024E9E816410>, <dxlib.core.portfolio.Signal object at 0x0000024E9F6A0E20>, <dxlib.core.portfolio.Signal object at 0x0000024E9F6A0910>, <dxlib.core.portfolio.Signal object at 0x0000024EEB6397E0>, <dxlib.core.portfolio.Signal object at 0x0000024E9F6A29E0>, <dxlib.core.portfolio.Signal object at 0x0000024E9F6A2260>, <dxlib.core.portfolio.Signal object at 0x0000024E9E94ACB0>, <dxlib.core.portfolio.Signal object at 0x0000024E9F6A2560>, <dxlib.core.portfolio.Signal object at 0x0000024E9F6A2140>, <dxlib.core.portfolio.Signal object at 0x0000024E9F4EF1C0>, <dxlib.core.portfolio.Signal object at 0x0000024E9F4EC430>, <dxlib.core.portfolio.Signal object at 0x0000024E9F4ED060>, <dxlib.core.portfolio.Signal object at 0x0000024E9F4ED960>, <dxlib.core.portfolio.Signal object at 0x0000024E9F4EE8C0>, <dxlib.core.portfolio.Signal object at 0x0000024E9F4EF220>, <dxlib.core.portfolio.Signal object at 0x0000024E9F4ECEE0>, <dxlib.core.portfolio.Signal object at 0x0000024E9F4ED570>, <dxlib.core.portfolio.Signal object at 0x0000024E9F4EE0B0>, <dxlib.core.portfolio.Signal object at 0x0000024E9F4EDE10>, <dxlib.core.portfolio.Signal object at 0x0000024E9F4ED6C0>, <dxlib.core.portfolio.Signal object at 0x0000024E9F4EFFD0>, <dxlib.core.portfolio.Signal object at 0x0000024E9F4EE650>, <dxlib.core.portfolio.Signal object at 0x0000024E9F4EECB0>, <dxlib.core.portfolio.Signal object at 0x0000024E9F4EF970>, <dxlib.core.portfolio.Signal object at 0x0000024E9F4EDDB0>, <dxlib.core.portfolio.Signal object at 0x0000024E9F4ECA00>, <dxlib.core.portfolio.Signal object at 0x0000024E9F4EFBB0>, <dxlib.core.portfolio.Signal object at 0x0000024E9E814550>, <dxlib.core.portfolio.Signal object at 0x0000024E9F4EF610>, <dxlib.core.portfolio.Signal object at 0x0000024E9F4EEEC0>, <dxlib.core.portfolio.Signal object at 0x0000024E9F4ED5D0>, <dxlib.core.portfolio.Signal object at 0x0000024EEB63AFE0>, <dxlib.core.portfolio.Signal object at 0x0000024E9E8034C0>, <dxlib.core.portfolio.Signal object at 0x0000024E9E814A60>, <dxlib.core.portfolio.Signal object at 0x0000024E9F4EF0A0>, <dxlib.core.portfolio.Signal object at 0x0000024E9F4EEC80>, <dxlib.core.portfolio.Signal object at 0x0000024E9F4ECFD0>, <dxlib.core.portfolio.Signal object at 0x0000024E9F4EE260>, <dxlib.core.portfolio.Signal object at 0x0000024E9F4EE6B0>, <dxlib.core.portfolio.Signal object at 0x0000024E9F4EDF90>, <dxlib.core.portfolio.Signal object at 0x0000024E9E800460>, <dxlib.core.portfolio.Signal object at 0x0000024E9E800400>, <dxlib.core.portfolio.Signal object at 0x0000024E9E803F70>, <dxlib.core.portfolio.Signal object at 0x0000024E9E803700>, <dxlib.core.portfolio.Signal object at 0x0000024E9E800790>, <dxlib.core.portfolio.Signal object at 0x0000024E9E803610>, <dxlib.core.portfolio.Signal object at 0x0000024E9E800280>, <dxlib.core.portfolio.Signal object at 0x0000024E9E8004F0>, <dxlib.core.portfolio.Signal object at 0x0000024E9E800040>, <dxlib.core.portfolio.Signal object at 0x0000024E9F4ED930>, <dxlib.core.portfolio.Signal object at 0x0000024E9F4ED870>, <dxlib.core.portfolio.Signal object at 0x0000024E9F4EFD60>, <dxlib.core.portfolio.Signal object at 0x0000024E9E8037F0>, <dxlib.core.portfolio.Signal object at 0x0000024E9E803FA0>, <dxlib.core.portfolio.Signal object at 0x0000024E9E800CD0>, <dxlib.core.portfolio.Signal object at 0x0000024E9E800F10>, <dxlib.core.portfolio.Signal object at 0x0000024E9E800BE0>, <dxlib.core.portfolio.Signal object at 0x0000024E9F4EFA00>, <dxlib.core.portfolio.Signal object at 0x0000024E9E802290>, <dxlib.core.portfolio.Signal object at 0x0000024E9E802590>, <dxlib.core.portfolio.Signal object at 0x0000024E9F6A1F60>, <dxlib.core.portfolio.Signal object at 0x0000024E9E802920>, <dxlib.core.portfolio.Signal object at 0x0000024E9E8024A0>, <dxlib.core.portfolio.Signal object at 0x0000024E9E801300>, <dxlib.core.portfolio.Signal object at 0x0000024E9E802B30>, <dxlib.core.portfolio.Signal object at 0x0000024E9E802B00>, <dxlib.core.portfolio.Signal object at 0x0000024E9E800D30>, <dxlib.core.portfolio.Signal object at 0x0000024E9E802A40>, <dxlib.core.portfolio.Signal object at 0x0000024E9E803190>, <dxlib.core.portfolio.Signal object at 0x0000024E9E801540>, <dxlib.core.portfolio.Signal object at 0x0000024E9E800820>, <dxlib.core.portfolio.Signal object at 0x0000024E9E801D50>, <dxlib.core.portfolio.Signal object at 0x0000024E9E800940>, <dxlib.core.portfolio.Signal object at 0x0000024E9E8002B0>, <dxlib.core.portfolio.Signal object at 0x0000024E9E803AF0>, <dxlib.core.portfolio.Signal object at 0x0000024E9E800FA0>, <dxlib.core.portfolio.Signal object at 0x0000024E9F4F6440>, <dxlib.core.portfolio.Signal object at 0x0000024E9F4F63E0>, <dxlib.core.portfolio.Signal object at 0x0000024E9F4F6560>, <dxlib.core.portfolio.Signal object at 0x0000024E9F4F44F0>, <dxlib.core.portfolio.Signal object at 0x0000024E9F4F6320>, <dxlib.core.portfolio.Signal object at 0x0000024E9F4F5720>, <dxlib.core.portfolio.Signal object at 0x0000024E9F4F4B20>, <dxlib.core.portfolio.Signal object at 0x0000024E9F4F53C0>, <dxlib.core.portfolio.Signal object at 0x0000024E9F4F42B0>, <dxlib.core.portfolio.Signal object at 0x0000024E9F4F52D0>, <dxlib.core.portfolio.Signal object at 0x0000024E9F4F55A0>, <dxlib.core.portfolio.Signal object at 0x0000024E9F4F64A0>, <dxlib.core.portfolio.Signal object at 0x0000024E9F4F41F0>, <dxlib.core.portfolio.Signal object at 0x0000024E9F4F5F60>, <dxlib.core.portfolio.Signal object at 0x0000024E9F4F64D0>, <dxlib.core.portfolio.Signal object at 0x0000024E9F4F5A50>, <dxlib.core.portfolio.Signal object at 0x0000024E9F4F6350>, <dxlib.core.portfolio.Signal object at 0x0000024E9F4F4FD0>, <dxlib.core.portfolio.Signal object at 0x0000024E9F4F50F0>, <dxlib.core.portfolio.Signal object at 0x0000024E9F4F63B0>, <dxlib.core.portfolio.Signal object at 0x0000024E9E801000>, <dxlib.core.portfolio.Signal object at 0x0000024E9F4F5330>, <dxlib.core.portfolio.Signal object at 0x0000024E9F4F55D0>, <dxlib.core.portfolio.Signal object at 0x0000024E9F4CC550>, <dxlib.core.portfolio.Signal object at 0x0000024E9F4F4970>, <dxlib.core.portfolio.Signal object at 0x0000024E9F4F52A0>, <dxlib.core.portfolio.Signal object at 0x0000024E9F4F6020>, <dxlib.core.portfolio.Signal object at 0x0000024E9E8031C0>, <dxlib.core.portfolio.Signal object at 0x0000024E9F4CC0A0>, <dxlib.core.portfolio.Signal object at 0x0000024E9F4CDCF0>, <dxlib.core.portfolio.Signal object at 0x0000024E9F4F5000>, <dxlib.core.portfolio.Signal object at 0x0000024E9E803670>, <dxlib.core.portfolio.Signal object at 0x0000024E9F4F4100>, <dxlib.core.portfolio.Signal object at 0x0000024E9F4F61D0>, <dxlib.core.portfolio.Signal object at 0x0000024E9F4F5600>, <dxlib.core.portfolio.Signal object at 0x0000024E9F4F58A0>, <dxlib.core.portfolio.Signal object at 0x0000024E9F4CC460>, <dxlib.core.portfolio.Signal object at 0x0000024E9F4CC100>, <dxlib.core.portfolio.Signal object at 0x0000024E9F4CC8B0>, <dxlib.core.portfolio.Signal object at 0x0000024E9F4CCC10>, <dxlib.core.portfolio.Signal object at 0x0000024E9F4CD360>, <dxlib.core.portfolio.Signal object at 0x0000024E9F4CD450>]\n",
      "0 BUY: cash 1000000.0 @ 1\n",
      "1 SELL: cash 121.24000000000001 @ 1\n",
      "2 BUY: AAPL 1 @ 121.23\n",
      "3 SELL: cash 123.34 @ 1\n",
      "4 BUY: AAPL 1 @ 123.33\n",
      "5 BUY: cash 130.08 @ 1\n",
      "6 SELL: AAPL 1 @ 130.09\n",
      "7 BUY: cash 130.58 @ 1\n",
      "8 SELL: AAPL 1 @ 130.59\n",
      "9 SELL: cash 141.32 @ 1\n",
      "10 BUY: AAPL 1 @ 141.31\n",
      "11 SELL: cash 143.72 @ 1\n",
      "12 BUY: AAPL 1 @ 143.71\n",
      "13 SELL: cash 140.29999999999998 @ 1\n",
      "14 BUY: AAPL 1 @ 140.29\n",
      "15 SELL: cash 141.20999999999998 @ 1\n",
      "16 BUY: AAPL 1 @ 141.2\n",
      "17 BUY: cash 146.98000000000002 @ 1\n",
      "18 SELL: AAPL 1 @ 146.99\n",
      "19 BUY: cash 146.93 @ 1\n",
      "20 SELL: AAPL 1 @ 146.94\n",
      "21 BUY: cash 147.60000000000002 @ 1\n",
      "22 SELL: AAPL 1 @ 147.61\n",
      "23 BUY: cash 147.14000000000001 @ 1\n",
      "24 SELL: AAPL 1 @ 147.15\n",
      "25 SELL: cash 164.57999999999998 @ 1\n",
      "26 BUY: AAPL 1 @ 164.57\n",
      "27 SELL: cash 162.88 @ 1\n",
      "28 BUY: AAPL 1 @ 162.87\n",
      "29 SELL: cash 160.79999999999998 @ 1\n",
      "30 BUY: AAPL 1 @ 160.79\n",
      "31 SELL: cash 160.01 @ 1\n",
      "32 BUY: AAPL 1 @ 160.0\n",
      "33 SELL: cash 158.19 @ 1\n",
      "34 BUY: AAPL 1 @ 158.18\n",
      "35 SELL: cash 158.1 @ 1\n",
      "36 BUY: AAPL 1 @ 158.09\n",
      "37 SELL: cash 157.64 @ 1\n",
      "38 BUY: AAPL 1 @ 157.63\n",
      "39 SELL: cash 158.85 @ 1\n",
      "40 BUY: AAPL 1 @ 158.84\n",
      "41 SELL: cash 156.07 @ 1\n",
      "42 BUY: AAPL 1 @ 156.06\n",
      "43 BUY: cash 174.06 @ 1\n",
      "44 SELL: AAPL 1 @ 174.07\n",
      "45 BUY: cash 176.21 @ 1\n",
      "46 SELL: AAPL 1 @ 176.22\n",
      "47 BUY: cash 173.07000000000002 @ 1\n",
      "48 SELL: AAPL 1 @ 173.08\n",
      "49 BUY: cash 172.78 @ 1\n",
      "50 SELL: AAPL 1 @ 172.79\n",
      "51 BUY: cash 176.87 @ 1\n",
      "52 SELL: AAPL 1 @ 176.88\n",
      "53 BUY: cash 173.52 @ 1\n",
      "54 SELL: AAPL 1 @ 173.53\n",
      "55 SELL: cash 161.47 @ 1\n",
      "56 BUY: AAPL 1 @ 161.46\n",
      "57 SELL: cash 155.44 @ 1\n",
      "58 BUY: AAPL 1 @ 155.43\n",
      "59 SELL: cash 155.20999999999998 @ 1\n",
      "60 BUY: AAPL 1 @ 155.2\n",
      "61 SELL: cash 139.35 @ 1\n",
      "62 BUY: AAPL 1 @ 139.34\n",
      "63 SELL: cash 130.60999999999999 @ 1\n",
      "64 BUY: AAPL 1 @ 130.6\n",
      "65 BUY: cash 145.96 @ 1\n",
      "66 SELL: AAPL 1 @ 145.97\n",
      "67 BUY: cash 143.8 @ 1\n",
      "68 SELL: AAPL 1 @ 143.81\n",
      "69 BUY: cash 149.89000000000001 @ 1\n",
      "70 SELL: AAPL 1 @ 149.9\n",
      "71 BUY: cash 151.92000000000002 @ 1\n",
      "72 SELL: AAPL 1 @ 151.93\n",
      "73 BUY: cash 154.21 @ 1\n",
      "74 SELL: AAPL 1 @ 154.22\n",
      "75 BUY: cash 152.96 @ 1\n",
      "76 SELL: AAPL 1 @ 152.97\n",
      "77 BUY: cash 151.83 @ 1\n",
      "78 SELL: AAPL 1 @ 151.84\n",
      "79 BUY: cash 161.32000000000002 @ 1\n",
      "80 SELL: AAPL 1 @ 161.33\n",
      "81 SELL: cash 157.04 @ 1\n",
      "82 BUY: AAPL 1 @ 157.03\n",
      "83 SELL: cash 154.89999999999998 @ 1\n",
      "84 BUY: AAPL 1 @ 154.89\n",
      "85 SELL: cash 153.63 @ 1\n",
      "86 BUY: AAPL 1 @ 153.62\n",
      "87 SELL: cash 155.04999999999998 @ 1\n",
      "88 BUY: AAPL 1 @ 155.04\n",
      "89 SELL: cash 153.56 @ 1\n",
      "90 BUY: AAPL 1 @ 153.55\n",
      "91 SELL: cash 156.45 @ 1\n",
      "92 BUY: AAPL 1 @ 156.44\n",
      "93 SELL: cash 151.48 @ 1\n",
      "94 BUY: AAPL 1 @ 151.47\n",
      "95 SELL: cash 137.39 @ 1\n",
      "96 BUY: AAPL 1 @ 137.38\n",
      "97 SELL: cash 139.6 @ 1\n",
      "98 BUY: AAPL 1 @ 139.59\n",
      "99 SELL: cash 138.17 @ 1\n",
      "100 BUY: AAPL 1 @ 138.16\n",
      "101 SELL: cash 137.53 @ 1\n",
      "102 BUY: AAPL 1 @ 137.52\n",
      "103 SELL: cash 131.75 @ 1\n",
      "104 BUY: AAPL 1 @ 131.74\n",
      "105 SELL: cash 134.88 @ 1\n",
      "106 BUY: AAPL 1 @ 134.87\n",
      "107 SELL: cash 131.67999999999998 @ 1\n",
      "108 BUY: AAPL 1 @ 131.67\n",
      "109 SELL: cash 131.31 @ 1\n",
      "110 BUY: AAPL 1 @ 131.3\n",
      "111 SELL: cash 129.48999999999998 @ 1\n",
      "112 BUY: AAPL 1 @ 129.48\n",
      "113 SELL: cash 125.51 @ 1\n",
      "114 BUY: AAPL 1 @ 125.5\n",
      "115 SELL: cash 124.55000000000001 @ 1\n",
      "116 BUY: AAPL 1 @ 124.54\n",
      "117 SELL: cash 125.83 @ 1\n",
      "118 BUY: AAPL 1 @ 125.82\n",
      "119 SELL: cash 124.5 @ 1\n",
      "120 BUY: AAPL 1 @ 124.49\n",
      "121 BUY: cash 140.5 @ 1\n",
      "122 SELL: AAPL 1 @ 140.51\n",
      "123 BUY: cash 141.91 @ 1\n",
      "124 SELL: AAPL 1 @ 141.92\n",
      "125 BUY: cash 141.25 @ 1\n",
      "126 SELL: AAPL 1 @ 141.26\n",
      "127 BUY: cash 143.34 @ 1\n",
      "128 SELL: AAPL 1 @ 143.35\n",
      "129 BUY: cash 145.3 @ 1\n",
      "130 SELL: AAPL 1 @ 145.31\n",
      "131 BUY: cash 142.38 @ 1\n",
      "132 SELL: AAPL 1 @ 142.39\n",
      "133 BUY: cash 143.67000000000002 @ 1\n",
      "134 SELL: AAPL 1 @ 143.68\n",
      "135 BUY: cash 144.8 @ 1\n",
      "136 SELL: AAPL 1 @ 144.81\n",
      "137 BUY: cash 150.17000000000002 @ 1\n",
      "138 SELL: AAPL 1 @ 150.18\n",
      "139 BUY: cash 153.83 @ 1\n",
      "140 SELL: AAPL 1 @ 153.84\n",
      "141 BUY: cash 151.07000000000002 @ 1\n",
      "142 SELL: AAPL 1 @ 151.08\n",
      "143 BUY: cash 153.98000000000002 @ 1\n",
      "144 SELL: AAPL 1 @ 153.99\n",
      "145 BUY: cash 151.26000000000002 @ 1\n",
      "146 SELL: AAPL 1 @ 151.27\n",
      "147 BUY: cash 158.83 @ 1\n",
      "148 SELL: AAPL 1 @ 158.84\n",
      "149 BUY: cash 157.39000000000001 @ 1\n",
      "150 SELL: AAPL 1 @ 157.4\n",
      "151 BUY: cash 160.32000000000002 @ 1\n",
      "152 SELL: AAPL 1 @ 160.33\n",
      "153 BUY: cash 161.91 @ 1\n",
      "154 SELL: AAPL 1 @ 161.92\n",
      "155 BUY: cash 164.3 @ 1\n",
      "156 SELL: AAPL 1 @ 164.31\n",
      "157 BUY: cash 165.71 @ 1\n",
      "158 SELL: AAPL 1 @ 165.72\n",
      "159 BUY: cash 165.17000000000002 @ 1\n",
      "160 SELL: AAPL 1 @ 165.18\n",
      "161 SELL: cash 181.75 @ 1\n",
      "162 BUY: AAPL 1 @ 181.74\n",
      "163 SELL: cash 178.62 @ 1\n",
      "164 BUY: AAPL 1 @ 178.61\n",
      "165 SELL: cash 179.57 @ 1\n",
      "166 BUY: AAPL 1 @ 179.56\n",
      "167 SELL: cash 177.95999999999998 @ 1\n",
      "168 BUY: AAPL 1 @ 177.95\n",
      "169 SELL: cash 177.73999999999998 @ 1\n",
      "170 BUY: AAPL 1 @ 177.73\n",
      "171 SELL: cash 177.79999999999998 @ 1\n",
      "172 BUY: AAPL 1 @ 177.79\n",
      "173 SELL: cash 179.47 @ 1\n",
      "174 BUY: AAPL 1 @ 179.46\n",
      "175 SELL: cash 177.45999999999998 @ 1\n",
      "176 BUY: AAPL 1 @ 177.45\n",
      "177 SELL: cash 176.57999999999998 @ 1\n",
      "178 BUY: AAPL 1 @ 176.57\n",
      "179 SELL: cash 174.01 @ 1\n",
      "180 BUY: AAPL 1 @ 174.0\n",
      "181 SELL: cash 174.5 @ 1\n",
      "182 BUY: AAPL 1 @ 174.49\n",
      "Transaction cost (per trade): <property object at 0x0000024E9F529620>\n",
      "Profit:  -324.10000000020955\n"
     ]
    }
   ],
   "source": [
    "historical_quantity = simulation.execute()\n",
    "print(historical_quantity)\n",
    "portfolio.print_transaction_history()\n",
    "print(\"Profit: \", starting_cash - portfolio.current_value)"
   ],
   "metadata": {
    "collapsed": false,
    "ExecuteTime": {
     "start_time": "2023-08-19T14:04:00.100545Z",
     "end_time": "2023-08-19T14:04:02.830208Z"
    }
   }
  },
  {
   "cell_type": "code",
   "execution_count": null,
   "outputs": [],
   "source": [],
   "metadata": {
    "collapsed": false
   }
  }
 ],
 "metadata": {
  "kernelspec": {
   "display_name": "Python 3",
   "language": "python",
   "name": "python3"
  },
  "language_info": {
   "codemirror_mode": {
    "name": "ipython",
    "version": 2
   },
   "file_extension": ".py",
   "mimetype": "text/x-python",
   "name": "python",
   "nbconvert_exporter": "python",
   "pygments_lexer": "ipython2",
   "version": "2.7.6"
  }
 },
 "nbformat": 4,
 "nbformat_minor": 0
}
