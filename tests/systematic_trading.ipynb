{
 "cells": [
  {
   "cell_type": "code",
   "execution_count": 2,
   "outputs": [],
   "source": [
    "%load_ext autoreload\n",
    "%autoreload 2"
   ],
   "metadata": {
    "collapsed": false,
    "ExecuteTime": {
     "start_time": "2023-08-04T03:33:12.553148Z",
     "end_time": "2023-08-04T03:33:12.608148Z"
    }
   }
  },
  {
   "cell_type": "code",
   "execution_count": 3,
   "metadata": {
    "collapsed": true,
    "ExecuteTime": {
     "start_time": "2023-08-04T03:33:13.014237Z",
     "end_time": "2023-08-04T03:33:14.117025Z"
    }
   },
   "outputs": [],
   "source": [
    "import pprint\n",
    "from dxlib.simulation import SimulationManager, Strategy\n",
    "from dxlib import Portfolio, Signal, TradeType\n",
    "from dxlib.api import AlpacaMarketsAPI\n",
    "import pandas\n",
    "\n",
    "pp = pprint.PrettyPrinter(width=100)  # Adjust the width as needed"
   ]
  },
  {
   "cell_type": "code",
   "execution_count": 18,
   "outputs": [
    {
     "name": "stdout",
     "output_type": "stream",
     "text": [
      "Index(['AAPL'], dtype='object')\n"
     ]
    },
    {
     "data": {
      "text/plain": "        AAPL\n0    127.790\n1    125.120\n2    122.060\n3    120.130\n4    121.420\n..       ...\n607  195.830\n608  196.450\n609  195.605\n610  192.580\n611  191.170\n\n[612 rows x 1 columns]",
      "text/html": "<div>\n<style scoped>\n    .dataframe tbody tr th:only-of-type {\n        vertical-align: middle;\n    }\n\n    .dataframe tbody tr th {\n        vertical-align: top;\n    }\n\n    .dataframe thead th {\n        text-align: right;\n    }\n</style>\n<table border=\"1\" class=\"dataframe\">\n  <thead>\n    <tr style=\"text-align: right;\">\n      <th></th>\n      <th>AAPL</th>\n    </tr>\n  </thead>\n  <tbody>\n    <tr>\n      <th>0</th>\n      <td>127.790</td>\n    </tr>\n    <tr>\n      <th>1</th>\n      <td>125.120</td>\n    </tr>\n    <tr>\n      <th>2</th>\n      <td>122.060</td>\n    </tr>\n    <tr>\n      <th>3</th>\n      <td>120.130</td>\n    </tr>\n    <tr>\n      <th>4</th>\n      <td>121.420</td>\n    </tr>\n    <tr>\n      <th>...</th>\n      <td>...</td>\n    </tr>\n    <tr>\n      <th>607</th>\n      <td>195.830</td>\n    </tr>\n    <tr>\n      <th>608</th>\n      <td>196.450</td>\n    </tr>\n    <tr>\n      <th>609</th>\n      <td>195.605</td>\n    </tr>\n    <tr>\n      <th>610</th>\n      <td>192.580</td>\n    </tr>\n    <tr>\n      <th>611</th>\n      <td>191.170</td>\n    </tr>\n  </tbody>\n</table>\n<p>612 rows × 1 columns</p>\n</div>"
     },
     "execution_count": 18,
     "metadata": {},
     "output_type": "execute_result"
    }
   ],
   "source": [
    "api = AlpacaMarketsAPI(\"PK1I7YM9Q2DTEGFSPANM\", \"a660Kh8r4RLuRJrO1lxQD9LcTQNj9vpLbGIk0MZG\")\n",
    "bars = api.get_historical_bars([\"AAPL\"], start=\"2021-03-01\")\n",
    "\n",
    "history = api.get_close_bars(bars=bars)\n",
    "print(history.columns)\n",
    "history"
   ],
   "metadata": {
    "collapsed": false,
    "ExecuteTime": {
     "start_time": "2023-08-04T03:36:50.914253Z",
     "end_time": "2023-08-04T03:36:52.848649Z"
    }
   }
  },
  {
   "cell_type": "code",
   "execution_count": 153,
   "outputs": [],
   "source": [
    "class HeuristicTest(Strategy):\n",
    "    def __init__(self):\n",
    "        super().__init__()\n",
    "        self.signal_history = []\n",
    "        self.signal_buy_history = []\n",
    "\n",
    "    def fit(self):\n",
    "        pass\n",
    "\n",
    "    def predict(self):\n",
    "        pass\n",
    "\n",
    "    def execute(self, row, idx, history) -> list[Signal]:\n",
    "        row_signal = pandas.Series(index=range(len(row)))\n",
    "        if (row['AAPL'] > 190) and (len(self.signal_buy_history) < 100):\n",
    "            row_signal[0] = Signal(TradeType.BUY, 1, row['AAPL'])\n",
    "            self.signal_buy_history.append(row_signal[0])\n",
    "        row_signal[pandas.isna(row_signal)] = Signal(TradeType.WAIT)\n",
    "        self.signal_history.append(row_signal)\n",
    "        return row_signal"
   ],
   "metadata": {
    "collapsed": false,
    "ExecuteTime": {
     "start_time": "2023-08-04T04:08:25.306592Z",
     "end_time": "2023-08-04T04:08:25.389119Z"
    }
   }
  },
  {
   "cell_type": "code",
   "execution_count": 158,
   "outputs": [],
   "source": [
    "starting_cash = 1e6\n",
    "portfolio = Portfolio()\n",
    "portfolio.add_cash(starting_cash)\n",
    "\n",
    "strategy = HeuristicTest()\n",
    "simulation = SimulationManager(portfolio, strategy, history)"
   ],
   "metadata": {
    "collapsed": false,
    "ExecuteTime": {
     "start_time": "2023-08-04T04:08:53.902603Z",
     "end_time": "2023-08-04T04:08:53.978759Z"
    }
   }
  },
  {
   "cell_type": "code",
   "execution_count": 159,
   "outputs": [
    {
     "name": "stdout",
     "output_type": "stream",
     "text": [
      "Transaction cost (per trade): 0.01\n",
      "0 BUY: cash 1000000.0 @ 1\n",
      "1 SELL: cash 193.89 @ 1\n",
      "2 BUY: AAPL 1 @ 193.88\n",
      "3 SELL: cash 192.47 @ 1\n",
      "4 BUY: AAPL 1 @ 192.46\n",
      "5 SELL: cash 191.34 @ 1\n",
      "6 BUY: AAPL 1 @ 191.33\n",
      "7 SELL: cash 191.82 @ 1\n",
      "8 BUY: AAPL 1 @ 191.81\n",
      "9 SELL: cash 190.69 @ 1\n",
      "10 BUY: AAPL 1 @ 190.68\n",
      "11 SELL: cash 190.54999999999998 @ 1\n",
      "12 BUY: AAPL 1 @ 190.54\n",
      "13 SELL: cash 190.7 @ 1\n",
      "14 BUY: AAPL 1 @ 190.69\n",
      "15 SELL: cash 194.0 @ 1\n",
      "16 BUY: AAPL 1 @ 193.99\n",
      "17 SELL: cash 193.73999999999998 @ 1\n",
      "18 BUY: AAPL 1 @ 193.73\n",
      "19 SELL: cash 195.10999999999999 @ 1\n",
      "20 BUY: AAPL 1 @ 195.1\n",
      "21 SELL: cash 193.14 @ 1\n",
      "22 BUY: AAPL 1 @ 193.13\n",
      "23 SELL: cash 191.95 @ 1\n",
      "24 BUY: AAPL 1 @ 191.94\n",
      "25 SELL: cash 192.76 @ 1\n",
      "26 BUY: AAPL 1 @ 192.75\n",
      "27 SELL: cash 193.63 @ 1\n",
      "28 BUY: AAPL 1 @ 193.62\n",
      "29 SELL: cash 194.51 @ 1\n",
      "30 BUY: AAPL 1 @ 194.5\n",
      "31 SELL: cash 193.23 @ 1\n",
      "32 BUY: AAPL 1 @ 193.22\n",
      "33 SELL: cash 195.84 @ 1\n",
      "34 BUY: AAPL 1 @ 195.83\n",
      "35 SELL: cash 196.45999999999998 @ 1\n",
      "36 BUY: AAPL 1 @ 196.45\n",
      "37 SELL: cash 195.61499999999998 @ 1\n",
      "38 BUY: AAPL 1 @ 195.605\n",
      "39 SELL: cash 192.59 @ 1\n",
      "40 BUY: AAPL 1 @ 192.58\n",
      "41 SELL: cash 191.17999999999998 @ 1\n",
      "42 BUY: AAPL 1 @ 191.17\n",
      "Profit:  40.644999999785796\n"
     ]
    }
   ],
   "source": [
    "historical_quantity = simulation.execute()\n",
    "portfolio.print_transaction_history()\n",
    "print(\"Profit: \", starting_cash - portfolio.current_value)"
   ],
   "metadata": {
    "collapsed": false,
    "ExecuteTime": {
     "start_time": "2023-08-04T04:08:54.363064Z",
     "end_time": "2023-08-04T04:08:55.191810Z"
    }
   }
  },
  {
   "cell_type": "code",
   "execution_count": null,
   "outputs": [],
   "source": [],
   "metadata": {
    "collapsed": false
   }
  }
 ],
 "metadata": {
  "kernelspec": {
   "display_name": "Python 3",
   "language": "python",
   "name": "python3"
  },
  "language_info": {
   "codemirror_mode": {
    "name": "ipython",
    "version": 2
   },
   "file_extension": ".py",
   "mimetype": "text/x-python",
   "name": "python",
   "nbconvert_exporter": "python",
   "pygments_lexer": "ipython2",
   "version": "2.7.6"
  }
 },
 "nbformat": 4,
 "nbformat_minor": 0
}
