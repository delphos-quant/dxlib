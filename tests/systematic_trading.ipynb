{
 "cells": [
  {
   "cell_type": "code",
   "execution_count": 1,
   "outputs": [],
   "source": [
    "%load_ext autoreload\n",
    "%autoreload 2"
   ],
   "metadata": {
    "collapsed": false,
    "ExecuteTime": {
     "end_time": "2023-08-10T00:13:02.171363700Z",
     "start_time": "2023-08-10T00:13:02.162515400Z"
    }
   }
  },
  {
   "cell_type": "code",
   "execution_count": 13,
   "metadata": {
    "collapsed": true,
    "ExecuteTime": {
     "end_time": "2023-08-10T00:15:28.273344400Z",
     "start_time": "2023-08-10T00:15:28.231620400Z"
    }
   },
   "outputs": [],
   "source": [
    "import pandas as pd\n",
    "\n",
    "import config\n",
    "from dxlib.simulation import SimulationManager, Strategy\n",
    "from dxlib import Portfolio, Signal, TradeType\n",
    "from dxlib.api import AlpacaMarketsAPI\n",
    "\n",
    "import pprint\n",
    "pp = pprint.PrettyPrinter(width=100)"
   ]
  },
  {
   "cell_type": "code",
   "execution_count": 14,
   "outputs": [],
   "source": [
    "api = AlpacaMarketsAPI(config.alpaca_market_api_key, config.alpaca_market_api_secret)\n",
    "historical_bars = api.get_historical_bars(\"AAPL\", \"2021-03-01\")"
   ],
   "metadata": {
    "collapsed": false,
    "ExecuteTime": {
     "end_time": "2023-08-10T00:15:29.044461500Z",
     "start_time": "2023-08-10T00:15:28.948014800Z"
    }
   }
  },
  {
   "cell_type": "code",
   "execution_count": 15,
   "outputs": [],
   "source": [
    "class HeuristicTest(Strategy):\n",
    "    def __init__(self):\n",
    "        super().__init__()\n",
    "        self.signal_history = []\n",
    "        self.signal_buy_history = []\n",
    "\n",
    "    def fit(self):\n",
    "        pass\n",
    "\n",
    "    def predict(self):\n",
    "        pass\n",
    "\n",
    "    def execute(self, row, idx, history) -> list[Signal]:\n",
    "        row_signal = pd.Series(index=range(len(row)))\n",
    "        if (row['AAPL'] > 190) and (len(self.signal_buy_history) < 100):\n",
    "            row_signal[0] = Signal(TradeType.BUY, 1, row['AAPL'])\n",
    "            self.signal_buy_history.append(row_signal[0])\n",
    "        row_signal[pd.isna(row_signal)] = Signal(TradeType.WAIT)\n",
    "        self.signal_history.append(row_signal)\n",
    "        return row_signal"
   ],
   "metadata": {
    "collapsed": false,
    "ExecuteTime": {
     "end_time": "2023-08-10T00:15:29.563063800Z",
     "start_time": "2023-08-10T00:15:29.513988800Z"
    }
   }
  },
  {
   "cell_type": "code",
   "execution_count": 16,
   "outputs": [],
   "source": [
    "starting_cash = 1e6\n",
    "portfolio = Portfolio()\n",
    "portfolio.add_cash(starting_cash)\n",
    "\n",
    "strategy = HeuristicTest()\n",
    "simulation = SimulationManager(portfolio, strategy, historical_bars[\"Close\"])"
   ],
   "metadata": {
    "collapsed": false,
    "ExecuteTime": {
     "end_time": "2023-08-10T00:15:29.952244200Z",
     "start_time": "2023-08-10T00:15:29.906999300Z"
    }
   }
  },
  {
   "cell_type": "code",
   "execution_count": 17,
   "outputs": [
    {
     "name": "stdout",
     "output_type": "stream",
     "text": [
      "Ticker  AAPL\n",
      "0        0.0\n",
      "1        0.0\n",
      "2        0.0\n",
      "3        0.0\n",
      "4        0.0\n",
      "..       ...\n",
      "610     20.0\n",
      "611     21.0\n",
      "612     21.0\n",
      "613     21.0\n",
      "614     21.0\n",
      "\n",
      "[615 rows x 1 columns]\n",
      "0 BUY: cash 1000000.0 @ 1\n",
      "1 SELL: cash 193.89 @ 1\n",
      "2 BUY: AAPL 1 @ 193.88\n",
      "3 SELL: cash 192.47 @ 1\n",
      "4 BUY: AAPL 1 @ 192.46\n",
      "5 SELL: cash 191.34 @ 1\n",
      "6 BUY: AAPL 1 @ 191.33\n",
      "7 SELL: cash 191.82 @ 1\n",
      "8 BUY: AAPL 1 @ 191.81\n",
      "9 SELL: cash 190.69 @ 1\n",
      "10 BUY: AAPL 1 @ 190.68\n",
      "11 SELL: cash 190.54999999999998 @ 1\n",
      "12 BUY: AAPL 1 @ 190.54\n",
      "13 SELL: cash 190.7 @ 1\n",
      "14 BUY: AAPL 1 @ 190.69\n",
      "15 SELL: cash 194.0 @ 1\n",
      "16 BUY: AAPL 1 @ 193.99\n",
      "17 SELL: cash 193.73999999999998 @ 1\n",
      "18 BUY: AAPL 1 @ 193.73\n",
      "19 SELL: cash 195.10999999999999 @ 1\n",
      "20 BUY: AAPL 1 @ 195.1\n",
      "21 SELL: cash 193.14 @ 1\n",
      "22 BUY: AAPL 1 @ 193.13\n",
      "23 SELL: cash 191.95 @ 1\n",
      "24 BUY: AAPL 1 @ 191.94\n",
      "25 SELL: cash 192.76 @ 1\n",
      "26 BUY: AAPL 1 @ 192.75\n",
      "27 SELL: cash 193.63 @ 1\n",
      "28 BUY: AAPL 1 @ 193.62\n",
      "29 SELL: cash 194.51 @ 1\n",
      "30 BUY: AAPL 1 @ 194.5\n",
      "31 SELL: cash 193.23 @ 1\n",
      "32 BUY: AAPL 1 @ 193.22\n",
      "33 SELL: cash 195.84 @ 1\n",
      "34 BUY: AAPL 1 @ 195.83\n",
      "35 SELL: cash 196.45999999999998 @ 1\n",
      "36 BUY: AAPL 1 @ 196.45\n",
      "37 SELL: cash 195.61499999999998 @ 1\n",
      "38 BUY: AAPL 1 @ 195.605\n",
      "39 SELL: cash 192.59 @ 1\n",
      "40 BUY: AAPL 1 @ 192.58\n",
      "41 SELL: cash 191.17999999999998 @ 1\n",
      "42 BUY: AAPL 1 @ 191.17\n",
      "Transaction cost (per trade): 0.01\n",
      "Profit:  279.414999999688\n"
     ]
    }
   ],
   "source": [
    "historical_quantity = simulation.execute()\n",
    "print(historical_quantity)\n",
    "portfolio.print_transaction_history()\n",
    "print(\"Profit: \", starting_cash - portfolio.current_value)"
   ],
   "metadata": {
    "collapsed": false,
    "ExecuteTime": {
     "end_time": "2023-08-10T00:15:31.108008500Z",
     "start_time": "2023-08-10T00:15:30.477807500Z"
    }
   }
  },
  {
   "cell_type": "code",
   "execution_count": null,
   "outputs": [],
   "source": [],
   "metadata": {
    "collapsed": false
   }
  }
 ],
 "metadata": {
  "kernelspec": {
   "display_name": "Python 3",
   "language": "python",
   "name": "python3"
  },
  "language_info": {
   "codemirror_mode": {
    "name": "ipython",
    "version": 2
   },
   "file_extension": ".py",
   "mimetype": "text/x-python",
   "name": "python",
   "nbconvert_exporter": "python",
   "pygments_lexer": "ipython2",
   "version": "2.7.6"
  }
 },
 "nbformat": 4,
 "nbformat_minor": 0
}
